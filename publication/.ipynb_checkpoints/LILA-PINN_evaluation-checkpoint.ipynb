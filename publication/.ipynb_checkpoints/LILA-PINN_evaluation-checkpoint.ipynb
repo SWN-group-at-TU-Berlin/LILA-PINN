{
 "cells": [
  {
   "cell_type": "markdown",
   "id": "b48a0961",
   "metadata": {},
   "source": [
    "# LILA-PINN evaluation script"
   ]
  },
  {
   "cell_type": "code",
   "execution_count": 13,
   "id": "227292aa",
   "metadata": {},
   "outputs": [],
   "source": [
    "import sys\n",
    "sys.path.append('..')\n",
    "from _utils import *\n",
    "from _utils.methods import *"
   ]
  },
  {
   "cell_type": "markdown",
   "id": "8d11ff14",
   "metadata": {},
   "source": [
    "## Pre-requisites"
   ]
  },
  {
   "cell_type": "code",
   "execution_count": 2,
   "id": "30e7dbea",
   "metadata": {},
   "outputs": [],
   "source": [
    "# Ground truth parameters\n",
    "n_ir        = 3      # Number of irregular demands\n",
    "noise       = True\n",
    "u_path = '../_utils/'\n",
    "inp_file = u_path+'inp_files/L-town_Real.inp'"
   ]
  },
  {
   "cell_type": "code",
   "execution_count": 3,
   "id": "5f4cc059",
   "metadata": {},
   "outputs": [],
   "source": [
    "# Ground truth for comparison\n",
    "leak_signals = pd.read_csv(\n",
    "    u_path+'Data/leak_ground_truth/2019_Leakages.csv',\n",
    "    sep=';',decimal=',',\n",
    "    parse_dates=['Timestamp'],\n",
    "    )\n",
    "leak_signals.index = leak_signals['Timestamp'].values\n",
    "leak_signals = leak_signals.drop(['Timestamp'],axis=1)\n",
    "leak_signals /= 60\n",
    "\n",
    "scada_flows    = extract_irregular_flows(n_ir=n_ir, inp_file=inp_file)"
   ]
  },
  {
   "cell_type": "code",
   "execution_count": 4,
   "id": "88401f2d",
   "metadata": {},
   "outputs": [],
   "source": [
    "# Leakage dataset\n",
    "scada_pressure = simulate_leakage_data(n_ir=n_ir, inp_file=inp_file, noise=noise, leaks=None)"
   ]
  },
  {
   "cell_type": "code",
   "execution_count": 5,
   "id": "50667044",
   "metadata": {},
   "outputs": [],
   "source": [
    "# Analysis parameters\n",
    "n_models = 100\n",
    "sensor_list = ['n1','n4','n31']\n",
    "labels = ['baseline regression model','model with full knowledge of industrial flows','model with PINN predictor for industrial flows']\n",
    "\n",
    "# CPD hyperparameters\n",
    "delta=1\n",
    "C_thr=300"
   ]
  },
  {
   "cell_type": "markdown",
   "id": "df524745",
   "metadata": {},
   "source": [
    "## Leak 1"
   ]
  },
  {
   "cell_type": "code",
   "execution_count": 6,
   "id": "0db31edd",
   "metadata": {},
   "outputs": [],
   "source": [
    "# leak specific parameters\n",
    "name = 'l1'\n",
    "leak_start = '2019-02-10 13:05:00'\n",
    "\n",
    "train_start = '2019-01-01'\n",
    "train_end   = '2019-01-14'\n",
    "test_start  = '2019-01-01'\n",
    "test_end    = '2019-03-31'"
   ]
  },
  {
   "cell_type": "code",
   "execution_count": 7,
   "id": "b478fabb",
   "metadata": {},
   "outputs": [],
   "source": [
    "# preprocess data to torch\n",
    "scaler_P = MaxAbsScaler()\n",
    "P_train,P_val,P_test = preprocess2torch(\n",
    "    scada_pressure,\n",
    "    sensor_list,\n",
    "    train_start = train_start,\n",
    "    train_end   = train_end,\n",
    "    test_start  = test_start,\n",
    "    test_end    = test_end,\n",
    "    scaler      = scaler_P,\n",
    "    )\n",
    "scaler_Q = MaxAbsScaler()\n",
    "Q_train,Q_val,Q_test = preprocess2torch(\n",
    "    scada_flows,\n",
    "    train_start = train_start,\n",
    "    train_end   = train_end,\n",
    "    test_start  = test_start,\n",
    "    test_end    = test_end,\n",
    "    scaler      = scaler_Q,\n",
    "    )\n",
    "tank_ = scada_pressure['T1'].to_frame()\n",
    "tank_ = (tank_-tank_.mean())/tank_.std()\n",
    "T_train,T_val,T_test = preprocess2torch(\n",
    "    tank_,\n",
    "    train_start = train_start,\n",
    "    train_end   = train_end,\n",
    "    test_start  = test_start,\n",
    "    test_end    = test_end,\n",
    "    )"
   ]
  },
  {
   "cell_type": "code",
   "execution_count": null,
   "id": "6a251837",
   "metadata": {},
   "outputs": [],
   "source": [
    "with open(u_path+'list_MRE_{}_s{}.pkl'.format(name,3), 'rb') as f:\n",
    "    list_MRE_QNET = pickle.load(f)\n",
    "with open(u_path+'list_c_{}_s{}.pkl'.format(name,3), 'rb') as f:\n",
    "    list_c_QNET = pickle.load(f)\n",
    "with open(u_path+'list_det_{}_s{}.pkl'.format(name,3), 'rb') as f:\n",
    "    list_det_QNET = pickle.load(f)"
   ]
  },
  {
   "cell_type": "code",
   "execution_count": 10,
   "id": "7b9211a9",
   "metadata": {},
   "outputs": [],
   "source": [
    "# loading pre-trained LILA-PINN models\n",
    "with open(u_path+'list_model_{}_s{}.pkl'.format(name,3), 'rb') as f:\n",
    "    list_model_QNET = pickle.load(f)\n",
    "\n",
    "# training regression models for comparison\n",
    "model_BL = calibrate_LILA(P_train, sensor_list=sensor_list, hyperparams=False, Q_train=T_train)\n",
    "model_FK = calibrate_LILA(P_train, sensor_list=sensor_list, hyperparams=False, Q_train=torch.cat((Q_train,T_train),axis=1))"
   ]
  },
  {
   "cell_type": "markdown",
   "id": "bdf6a669",
   "metadata": {},
   "source": [
    "### Figure 3"
   ]
  },
  {
   "cell_type": "code",
   "execution_count": 14,
   "id": "7d64be1b",
   "metadata": {},
   "outputs": [
    {
     "ename": "NameError",
     "evalue": "name 'r2_score' is not defined",
     "output_type": "error",
     "traceback": [
      "\u001b[0;31m---------------------------------------------------------------------------\u001b[0m",
      "\u001b[0;31mNameError\u001b[0m                                 Traceback (most recent call last)",
      "Cell \u001b[0;32mIn[14], line 15\u001b[0m\n\u001b[1;32m     13\u001b[0m r2 \u001b[38;5;241m=\u001b[39m \u001b[38;5;241m0\u001b[39m\n\u001b[1;32m     14\u001b[0m \u001b[38;5;28;01mfor\u001b[39;00m i \u001b[38;5;129;01min\u001b[39;00m \u001b[38;5;28mrange\u001b[39m(\u001b[38;5;241m3\u001b[39m):\n\u001b[0;32m---> 15\u001b[0m     r2 \u001b[38;5;241m+\u001b[39m\u001b[38;5;241m=\u001b[39m \u001b[43mr2_score\u001b[49m(q_true[:,i],q_pred[:,p[i]])\n\u001b[1;32m     16\u001b[0m \u001b[38;5;28;01mif\u001b[39;00m r2\u001b[38;5;241m>\u001b[39mr2_max:\n\u001b[1;32m     17\u001b[0m     r2_max \u001b[38;5;241m=\u001b[39m r2\n",
      "\u001b[0;31mNameError\u001b[0m: name 'r2_score' is not defined"
     ]
    }
   ],
   "source": [
    "# displaying comparison between estimated irregular demands and ground truth\n",
    "r2_scores = pd.DataFrame(columns=['p'],dtype=object)\n",
    "for n,model_QNET in enumerate(list_model_QNET):\n",
    "    q_true = pd.DataFrame(\n",
    "        MaxAbsScaler().fit_transform(scada_flows),\n",
    "        columns=scada_flows.columns,\n",
    "        index=scada_flows.index,\n",
    "    ).loc[test_start:test_end].values\n",
    "    q_pred = model_QNET.lin_reg.qnet(P_test).detach().numpy()\n",
    "    r2_max = -20\n",
    "    p_max = 0\n",
    "    for p in permutations(range(3)):\n",
    "        r2 = 0\n",
    "        for i in range(3):\n",
    "            r2 += r2_score(q_true[:,i],q_pred[:,p[i]])\n",
    "        if r2>r2_max:\n",
    "            r2_max = r2\n",
    "            p_max = p\n",
    "    for i in range(3):\n",
    "        r2_scores.loc[n,i] = r2_score(q_true[:,i],q_pred[:,p_max[i]])\n",
    "    r2_scores.at[n,'p'] = list(p_max)\n",
    "    r2_scores.loc[n,'sum'] = r2_max\n",
    "    r2_scores['sum2'] = r2_scores[[0,1]].sum(axis=1)\n",
    "    for i in range(3):\n",
    "        r2_scores.loc[n,'rmse_{}'.format(i)] = mean_squared_error(q_true[:,i],q_pred[:,p_max[i]],squared=False)\n",
    "        \n",
    "        \n",
    "q_true = pd.DataFrame(\n",
    "    MaxAbsScaler().fit_transform(scada_flows),\n",
    "    columns=['','',''],\n",
    "    index=scada_flows.index,\n",
    ").loc[test_start:test_end]\n",
    "q_pred = pd.DataFrame(\n",
    "    list_model_QNET[54].lin_reg.qnet(P_test).detach().numpy(),\n",
    "    columns=['','',''],\n",
    "    index=q_true.index,\n",
    ")\n",
    "\n",
    "n_add = 3\n",
    "f,axs = plt.subplots(n_add,figsize=(15,5*n_add),sharex=True,sharey=True)\n",
    "for d,ax in enumerate(axs):\n",
    "    q_true.iloc[:,d].loc[:'2019-01-14 00:00'].plot(\n",
    "        ax=ax,\n",
    "        lw=4,\n",
    "        label='Ground truth'.format(d+1),\n",
    "        color='tab:orange',\n",
    "        )\n",
    "    q_pred.iloc[:,r2_scores.loc[54,'p'][d]].loc[:'2019-01-14 00:00'].plot(\n",
    "        ax=ax,\n",
    "        label='LILA-PINN estimates'.format(d+1),\n",
    "        color='black',\n",
    "        )\n",
    "    ax.set_ylabel('Normalised flow rate (-)')\n",
    "    if d==0:\n",
    "        ax.legend(loc=2,framealpha=1)\n",
    "f.tight_layout()"
   ]
  },
  {
   "cell_type": "code",
   "execution_count": null,
   "id": "b116b70e",
   "metadata": {},
   "outputs": [],
   "source": []
  }
 ],
 "metadata": {
  "kernelspec": {
   "display_name": "Python 3 (ipykernel)",
   "language": "python",
   "name": "python3"
  },
  "language_info": {
   "codemirror_mode": {
    "name": "ipython",
    "version": 3
   },
   "file_extension": ".py",
   "mimetype": "text/x-python",
   "name": "python",
   "nbconvert_exporter": "python",
   "pygments_lexer": "ipython3",
   "version": "3.9.16"
  }
 },
 "nbformat": 4,
 "nbformat_minor": 5
}
